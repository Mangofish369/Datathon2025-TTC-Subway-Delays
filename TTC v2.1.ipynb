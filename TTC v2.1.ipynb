{
 "cells": [
  {
   "cell_type": "code",
   "execution_count": 16,
   "id": "c3475816",
   "metadata": {},
   "outputs": [],
   "source": [
    "import pandas as pd\n",
    "import matplotlib.pyplot as plt\n",
    "from sklearn.ensemble import RandomForestClassifier\n",
    "from sklearn.model_selection import train_test_split\n",
    "from sklearn.metrics import accuracy_score, confusion_matrix, precision_score\n",
    "from sklearn.preprocessing import LabelEncoder\n"
   ]
  },
  {
   "cell_type": "code",
   "execution_count": 2,
   "id": "73041ca2",
   "metadata": {},
   "outputs": [],
   "source": [
    "df_original = pd.read_csv(\"subway-data.csv\")\n",
    "\n",
    "df_original = df_original[df_original[\"Vehicle\"] != 0]"
   ]
  },
  {
   "cell_type": "code",
   "execution_count": 3,
   "id": "62f8e854",
   "metadata": {},
   "outputs": [],
   "source": [
    "#Data Trimmer\n",
    "\n",
    "# Step 1: Calculate the frequency of each code\n",
    "code_counts = df_original['Code'].value_counts()\n",
    "\n",
    "# Step 2: Calculate the cumulative distribution of the counts\n",
    "cumulative_freq = code_counts.cumsum() / code_counts.sum()\n",
    "\n",
    "# Step 3: Find the 95% threshold for cumulative frequency\n",
    "threshold_95 = cumulative_freq[cumulative_freq <= 0.95].index\n",
    "\n",
    "# Step 4: Create a new column to filter out codes outside of the 95% distribution\n",
    "df_original['95_percent_codes'] = df_original['Code'].where(df_original['Code'].isin(threshold_95))\n",
    "\n"
   ]
  },
  {
   "cell_type": "code",
   "execution_count": 4,
   "id": "80cc6dc4",
   "metadata": {},
   "outputs": [],
   "source": [
    "df = df_original.copy().dropna(subset=['95_percent_codes'])"
   ]
  },
  {
   "cell_type": "code",
   "execution_count": 5,
   "id": "bf6f4682",
   "metadata": {},
   "outputs": [],
   "source": [
    "# Count the occurrences of each unique value in the 'Code' column\n",
    "code_counts = df['95_percent_codes'].value_counts()"
   ]
  },
  {
   "cell_type": "code",
   "execution_count": 6,
   "id": "e4baaf76",
   "metadata": {},
   "outputs": [],
   "source": [
    "# Initialize LabelEncoder\n",
    "label_encoder = LabelEncoder()\n",
    "\n",
    "# Create a new column for the mapped numerical values\n",
    "df.loc[:, 'Day_numeric'] = label_encoder.fit_transform(df['Day'])\n",
    "\n",
    "df.loc[:, 'station_numeric'] = label_encoder.fit_transform(df['Station'])\n",
    "\n",
    "df.loc[:, 'line_numeric'] = label_encoder.fit_transform(df['Line'])\n",
    "\n",
    "df.loc[:, 'vehicle_numeric'] = label_encoder.fit_transform(df['Vehicle'])\n",
    "\n",
    "df.loc[:, 'code_numeric'] = label_encoder.fit_transform(df['95_percent_codes'])\n",
    "\n",
    "\n",
    "\n",
    "# Categorize min_delay into bins (categories)\n",
    "bins = [0, 3, 1000]  # Define bin edges\n",
    "labels = ['Average Delay', 'Above Average Delay']  # Labels for the categories\n",
    "\n",
    "\n",
    "# Create a new column 'min_delay_category' for the categories\n",
    "df.loc[:, 'min_delay_category'] = pd.cut(df['Min Delay'], bins=bins, labels=labels, right=False)"
   ]
  },
  {
   "cell_type": "code",
   "execution_count": 18,
   "id": "2008c429",
   "metadata": {},
   "outputs": [
    {
     "name": "stdout",
     "output_type": "stream",
     "text": [
      "Training Accuracy: 0.7171396564600448\n",
      "Test Accuracy: 0.6919342793129201\n",
      "Accuracy for 'Above Average Delay': 0.8879\n",
      "Precision for 'Above Average Delay': 0.6870\n"
     ]
    }
   ],
   "source": [
    "target = 'min_delay_category'\n",
    "source1 = 'Day_numeric'\n",
    "source2 = 'station_numeric'\n",
    "source3 = 'line_numeric'\n",
    "source4 = 'vehicle_numeric'\n",
    "source5 = 'code_numeric'\n",
    "\n",
    "\n",
    "# Define features (X) and target (y)\n",
    "X = df[[source1, source2, source3, source4, source5]]  # Example features (add more if necessary)\n",
    "y = df[target]  # Target: the categorized 'Min Delay'\n",
    "\n",
    "X_train, X_test, y_train, y_test = train_test_split(X, y, test_size=0.2, random_state=42)\n",
    "\n",
    "# Initialize the RandomForestClassifier\n",
    "rf = RandomForestClassifier(n_estimators=500, random_state=42, min_samples_leaf = 20, min_samples_split = 99)\n",
    "\n",
    "# Train the model on the training data\n",
    "rf.fit(X_train, y_train)\n",
    "\n",
    "# Make predictions on the training and test sets\n",
    "y_train_pred = rf.predict(X_train)\n",
    "y_test_pred = rf.predict(X_test)\n",
    "\n",
    "# Evaluate the model: Accuracy on training and test sets\n",
    "train_accuracy = accuracy_score(y_train, y_train_pred)\n",
    "test_accuracy = accuracy_score(y_test, y_test_pred)\n",
    "\n",
    "\"\"\"Accuracy Calculations\"\"\"\n",
    "# Convert categorical labels to string format for comparison\n",
    "y_test_numeric = y_test.astype(str)\n",
    "y_test_pred_numeric = y_test_pred.astype(str)\n",
    "\n",
    "# Define the bin label\n",
    "bin_label = 'Above Average Delay'\n",
    "\n",
    "# Get indexes where y_test is 'Above Average Delay'\n",
    "bin_indices = (y_test_numeric == bin_label)\n",
    "\n",
    "# Extract actual and predicted values for this bin\n",
    "y_test_bin = y_test_numeric[bin_indices]\n",
    "y_test_pred_bin = y_test_pred_numeric[bin_indices]\n",
    "\n",
    "# Compute accuracy for 'Above Average Delay'\n",
    "bin_accuracy = accuracy_score(y_test_bin, y_test_pred_bin)\n",
    "\n",
    "\n",
    "\"\"\"Precision Calculation\n",
    "\"\"\"\n",
    "# Convert categorical labels to numeric for evaluation\n",
    "y_test_numeric = y_test.astype(str)\n",
    "y_test_pred_numeric = y_test_pred.astype(str)\n",
    "\n",
    "# Compute precision for 'Above Average Delay'\n",
    "bin_label = 'Above Average Delay'\n",
    "precision = precision_score(y_test_numeric, y_test_pred_numeric, pos_label=bin_label)\n",
    "\n",
    "\n",
    "\n",
    "\n",
    "print(f\"Training Accuracy: {train_accuracy}\")\n",
    "print(f\"Test Accuracy: {test_accuracy}\")\n",
    "print(f\"Accuracy for '{bin_label}': {bin_accuracy:.4f}\")\n",
    "print(f\"Precision for '{bin_label}': {precision:.4f}\")"
   ]
  }
 ],
 "metadata": {
  "kernelspec": {
   "display_name": "Python 3 (ipykernel)",
   "language": "python",
   "name": "python3"
  },
  "language_info": {
   "codemirror_mode": {
    "name": "ipython",
    "version": 3
   },
   "file_extension": ".py",
   "mimetype": "text/x-python",
   "name": "python",
   "nbconvert_exporter": "python",
   "pygments_lexer": "ipython3",
   "version": "3.11.6"
  }
 },
 "nbformat": 4,
 "nbformat_minor": 5
}
